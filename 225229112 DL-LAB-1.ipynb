{
 "cells": [
  {
   "cell_type": "markdown",
   "id": "ddf65e03",
   "metadata": {},
   "source": [
    "### PDL "
   ]
  },
  {
   "cell_type": "markdown",
   "id": "03a23c93",
   "metadata": {},
   "source": [
    "#### Yogeshwari--225229148"
   ]
  },
  {
   "cell_type": "markdown",
   "id": "4b76b93f",
   "metadata": {},
   "source": [
    "### Lab1 Python Functions and Numpy"
   ]
  },
  {
   "cell_type": "markdown",
   "id": "cd5ad0ce",
   "metadata": {},
   "source": [
    "##### Part-I: Write a method for sigmoid function"
   ]
  },
  {
   "cell_type": "code",
   "execution_count": 7,
   "id": "032e2d72",
   "metadata": {},
   "outputs": [],
   "source": [
    "import math\n",
    "import numpy as np"
   ]
  },
  {
   "cell_type": "code",
   "execution_count": 34,
   "id": "d1b63b48",
   "metadata": {},
   "outputs": [],
   "source": [
    "#1\n",
    "def mysigmoid(x):\n",
    "    s = 1. /(1+ math.exp(-x))\n",
    "    return s\n"
   ]
  },
  {
   "cell_type": "code",
   "execution_count": 25,
   "id": "729be741",
   "metadata": {},
   "outputs": [
    {
     "name": "stdout",
     "output_type": "stream",
     "text": [
      "0.9820137900379085\n"
     ]
    }
   ],
   "source": [
    "#2\n",
    "print(mysigmoid(4))"
   ]
  },
  {
   "cell_type": "code",
   "execution_count": 28,
   "id": "a319cfae",
   "metadata": {},
   "outputs": [],
   "source": [
    "#3\n",
    "x = np.array([1, 2, 3])\n",
    "y = mysigmoid(x)"
   ]
  },
  {
   "cell_type": "code",
   "execution_count": 33,
   "id": "40d74893",
   "metadata": {},
   "outputs": [
    {
     "data": {
      "text/html": [
       "<div>\n",
       "<style scoped>\n",
       "    .dataframe tbody tr th:only-of-type {\n",
       "        vertical-align: middle;\n",
       "    }\n",
       "\n",
       "    .dataframe tbody tr th {\n",
       "        vertical-align: top;\n",
       "    }\n",
       "\n",
       "    .dataframe thead th {\n",
       "        text-align: right;\n",
       "    }\n",
       "</style>\n",
       "<table border=\"1\" class=\"dataframe\">\n",
       "  <thead>\n",
       "    <tr style=\"text-align: right;\">\n",
       "      <th></th>\n",
       "      <th>x</th>\n",
       "      <th>mysigmoid(x)</th>\n",
       "    </tr>\n",
       "  </thead>\n",
       "  <tbody>\n",
       "    <tr>\n",
       "      <th>0</th>\n",
       "      <td>1</td>\n",
       "      <td>0.731059</td>\n",
       "    </tr>\n",
       "    <tr>\n",
       "      <th>1</th>\n",
       "      <td>2</td>\n",
       "      <td>0.880797</td>\n",
       "    </tr>\n",
       "    <tr>\n",
       "      <th>2</th>\n",
       "      <td>3</td>\n",
       "      <td>0.952574</td>\n",
       "    </tr>\n",
       "  </tbody>\n",
       "</table>\n",
       "</div>"
      ],
      "text/plain": [
       "   x  mysigmoid(x)\n",
       "0  1      0.731059\n",
       "1  2      0.880797\n",
       "2  3      0.952574"
      ]
     },
     "execution_count": 33,
     "metadata": {},
     "output_type": "execute_result"
    }
   ],
   "source": [
    "import pandas as pd\n",
    "df=pd.DataFrame({\"x\": x,\"mysigmoid(x)\" : y})\n",
    "df"
   ]
  },
  {
   "cell_type": "code",
   "execution_count": 35,
   "id": "456c5afa",
   "metadata": {},
   "outputs": [],
   "source": [
    "#4\n",
    "def mysigmoid(x):\n",
    "    s = 1. /(1+ np.exp(-x))\n",
    "    return s"
   ]
  },
  {
   "cell_type": "code",
   "execution_count": 37,
   "id": "49d23356",
   "metadata": {},
   "outputs": [
    {
     "data": {
      "text/plain": [
       "array([0.73105858, 0.88079708, 0.95257413])"
      ]
     },
     "execution_count": 37,
     "metadata": {},
     "output_type": "execute_result"
    }
   ],
   "source": [
    "#5\n",
    "x = np.array([1, 2, 3])\n",
    "mysigmoid(x)"
   ]
  },
  {
   "cell_type": "markdown",
   "id": "c070532b",
   "metadata": {},
   "source": [
    "#### Part-II: Gradient or derivative of sigmoid function"
   ]
  },
  {
   "cell_type": "code",
   "execution_count": 39,
   "id": "4e3607a0",
   "metadata": {},
   "outputs": [],
   "source": [
    "def sig_derivative(s):\n",
    "    s=mysigmoid(x)\n",
    "    ds=s*1-s\n",
    "    return ds"
   ]
  },
  {
   "cell_type": "code",
   "execution_count": 42,
   "id": "73933860",
   "metadata": {},
   "outputs": [
    {
     "data": {
      "text/plain": [
       "array([0., 0., 0.])"
      ]
     },
     "execution_count": 42,
     "metadata": {},
     "output_type": "execute_result"
    }
   ],
   "source": [
    "sig_derivative(3)"
   ]
  },
  {
   "cell_type": "markdown",
   "id": "750c186e",
   "metadata": {},
   "source": [
    "#### Part-III: Write a method image_to_vector()"
   ]
  },
  {
   "cell_type": "code",
   "execution_count": 43,
   "id": "40246402",
   "metadata": {},
   "outputs": [],
   "source": [
    "#1\n",
    "def image2vector(image):\n",
    "   \n",
    "    v = image.reshape(image.shape[0]*image.shape[1]*image.shape[2],1)\n",
    "    ### END CODE HERE ###\n",
    "    \n",
    "    return v"
   ]
  },
  {
   "cell_type": "code",
   "execution_count": 44,
   "id": "0bda8ed9",
   "metadata": {},
   "outputs": [
    {
     "name": "stdout",
     "output_type": "stream",
     "text": [
      "image2vector(image) = [[0.67826139]\n",
      " [0.29380381]\n",
      " [0.90714982]\n",
      " [0.52835647]\n",
      " [0.4215251 ]\n",
      " [0.45017551]\n",
      " [0.92814219]\n",
      " [0.96677647]\n",
      " [0.85304703]\n",
      " [0.52351845]\n",
      " [0.19981397]\n",
      " [0.27417313]\n",
      " [0.60659855]\n",
      " [0.00533165]\n",
      " [0.10820313]\n",
      " [0.49978937]\n",
      " [0.34144279]\n",
      " [0.94630077]]\n"
     ]
    }
   ],
   "source": [
    "#2\n",
    "image = np.array([[[ 0.67826139,  0.29380381],\n",
    "        [ 0.90714982,  0.52835647],\n",
    "        [ 0.4215251 ,  0.45017551]],\n",
    "\n",
    "       [[ 0.92814219,  0.96677647],\n",
    "        [ 0.85304703,  0.52351845],\n",
    "        [ 0.19981397,  0.27417313]],\n",
    "\n",
    "       [[ 0.60659855,  0.00533165],\n",
    "        [ 0.10820313,  0.49978937],\n",
    "        [ 0.34144279,  0.94630077]]])\n",
    "\n",
    "print (\"image2vector(image) = \" + str(image2vector(image)))"
   ]
  },
  {
   "cell_type": "markdown",
   "id": "61530525",
   "metadata": {},
   "source": [
    "##### Part-IV: Write a method normalizeRows()"
   ]
  },
  {
   "cell_type": "code",
   "execution_count": 45,
   "id": "c16cfacd",
   "metadata": {},
   "outputs": [],
   "source": [
    "def normalizeRows(x):\n",
    "    x_norm = np.linalg.norm(x, ord = 2, axis = 1, keepdims = True)\n",
    "    x = x / x_norm\n",
    "    return x"
   ]
  },
  {
   "cell_type": "code",
   "execution_count": 47,
   "id": "e74d77a8",
   "metadata": {},
   "outputs": [
    {
     "name": "stdout",
     "output_type": "stream",
     "text": [
      "normalizeRows(x) = [[0.         0.6        0.8       ]\n",
      " [0.26726124 0.80178373 0.53452248]]\n"
     ]
    }
   ],
   "source": [
    "x = np.array([\n",
    "    [0, 3, 4],\n",
    "    [2, 6, 4]])\n",
    "print(\"normalizeRows(x) = \" + str(normalizeRows(x)))"
   ]
  },
  {
   "cell_type": "markdown",
   "id": "1cb70b9b",
   "metadata": {},
   "source": [
    "##### Part-V: Multiplication and Vectorization Operations"
   ]
  },
  {
   "cell_type": "code",
   "execution_count": 57,
   "id": "064ec693",
   "metadata": {},
   "outputs": [
    {
     "name": "stdout",
     "output_type": "stream",
     "text": [
      "dot = 77\n",
      " ----- Computation time = 0.0ms\n",
      "elementwise multiplication = [63  4 10]\n",
      " ----- Computation time = 0.0ms\n"
     ]
    }
   ],
   "source": [
    "#1\n",
    "import time\n",
    "x1 = [9, 2, 5]\n",
    "x2 = [7, 2, 2]\n",
    "tic = time.process_time()\n",
    "dot = np.dot(x1,x2)\n",
    "toc = time.process_time()\n",
    "print (\"dot = \" + str(dot) + \"\\n ----- Computation time = \" + str(1000*(toc - tic)) + \"ms\")\n",
    "\n",
    "tic = time.process_time()\n",
    "mul = np.multiply(x1,x2)\n",
    "toc = time.process_time()\n",
    "print (\"elementwise multiplication = \" + str(mul) + \"\\n ----- Computation time = \" + str(1000*(toc - tic)) + \"ms\")"
   ]
  },
  {
   "cell_type": "code",
   "execution_count": 58,
   "id": "00c76f87",
   "metadata": {},
   "outputs": [
    {
     "name": "stdout",
     "output_type": "stream",
     "text": [
      "dot = 278\n",
      " ----- Computation time = 0.0ms\n",
      "elementwise multiplication = [81  4 10  0  0 63 10  0  0  0 81  4 25  0  0]\n",
      " ----- Computation time = 0.0ms\n"
     ]
    }
   ],
   "source": [
    "x1 = [9, 2, 5, 0, 0, 7, 5, 0, 0, 0, 9, 2, 5, 0, 0]\n",
    "x2 = [9, 2, 2, 9, 0, 9, 2, 5, 0, 0, 9, 2, 5, 0, 0]\n",
    "tic = time.process_time()\n",
    "dot = np.dot(x1,x2)\n",
    "toc = time.process_time()\n",
    "print (\"dot = \" + str(dot) + \"\\n ----- Computation time = \" + str(1000*(toc - tic)) + \"ms\")\n",
    "\n",
    "tic = time.process_time()\n",
    "mul = np.multiply(x1,x2)\n",
    "toc = time.process_time()\n",
    "print (\"elementwise multiplication = \" + str(mul) + \"\\n ----- Computation time = \" + str(1000*(toc - tic)) + \"ms\")\n"
   ]
  },
  {
   "cell_type": "markdown",
   "id": "4919d06b",
   "metadata": {},
   "source": [
    "##### Part-VI: Implement L1 and L2 loss functions"
   ]
  },
  {
   "cell_type": "code",
   "execution_count": 51,
   "id": "76dc2d9d",
   "metadata": {},
   "outputs": [],
   "source": [
    "#1\n",
    "def L1(ypred, y):\n",
    "    loss = np.sum(abs(ypred - y))\n",
    "    return loss"
   ]
  },
  {
   "cell_type": "code",
   "execution_count": 52,
   "id": "cf254a0a",
   "metadata": {},
   "outputs": [
    {
     "name": "stdout",
     "output_type": "stream",
     "text": [
      "L1 = 1.1\n"
     ]
    }
   ],
   "source": [
    "ypred = np.array([.9, 0.2, 0.1, .4, .9])\n",
    "y = np.array([1, 0, 0, 1, 1])\n",
    "print(\"L1 = \" + str(L1(ypred,y)))"
   ]
  },
  {
   "cell_type": "code",
   "execution_count": 54,
   "id": "ccd94574",
   "metadata": {},
   "outputs": [],
   "source": [
    "#2\n",
    "def L2(ypred, y):\n",
    "    loss = np.dot(yhat - y, ypred - y)\n",
    "    return loss"
   ]
  },
  {
   "cell_type": "code",
   "execution_count": 55,
   "id": "4c991377",
   "metadata": {},
   "outputs": [
    {
     "name": "stdout",
     "output_type": "stream",
     "text": [
      "L2 = 0.43\n"
     ]
    }
   ],
   "source": [
    "ypred = np.array([.9, 0.2, 0.1, .4, .9])\n",
    "y = np.array([1, 0, 0, 1, 1])\n",
    "print(\"L2 = \" + str(L2(ypred,y)))"
   ]
  },
  {
   "cell_type": "code",
   "execution_count": null,
   "id": "0981229a",
   "metadata": {},
   "outputs": [],
   "source": []
  }
 ],
 "metadata": {
  "kernelspec": {
   "display_name": "Python 3 (ipykernel)",
   "language": "python",
   "name": "python3"
  },
  "language_info": {
   "codemirror_mode": {
    "name": "ipython",
    "version": 3
   },
   "file_extension": ".py",
   "mimetype": "text/x-python",
   "name": "python",
   "nbconvert_exporter": "python",
   "pygments_lexer": "ipython3",
   "version": "3.9.7"
  }
 },
 "nbformat": 4,
 "nbformat_minor": 5
}
