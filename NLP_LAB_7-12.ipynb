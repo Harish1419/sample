{
 "cells": [
  {
   "cell_type": "markdown",
   "id": "c622863b",
   "metadata": {},
   "source": [
    "# 7. Sentiment Analysis on Movie Reviews"
   ]
  },
  {
   "cell_type": "markdown",
   "id": "99e22e02",
   "metadata": {},
   "source": [
    "### NAME: NEWLIN BLESSY"
   ]
  },
  {
   "cell_type": "markdown",
   "id": "40f3b531",
   "metadata": {},
   "source": [
    "#### ROLL NO: 225229122"
   ]
  },
  {
   "cell_type": "markdown",
   "id": "431a115f",
   "metadata": {},
   "source": [
    "# Exercise-1"
   ]
  },
  {
   "cell_type": "code",
   "execution_count": 1,
   "id": "b6c847f9",
   "metadata": {},
   "outputs": [],
   "source": [
    "import pandas as pd"
   ]
  },
  {
   "cell_type": "code",
   "execution_count": 2,
   "id": "86b2399e",
   "metadata": {},
   "outputs": [],
   "source": [
    "df = pd.read_csv(\"train.tsv\",sep='\\t')"
   ]
  },
  {
   "cell_type": "code",
   "execution_count": 3,
   "id": "626ee2f5",
   "metadata": {},
   "outputs": [
    {
     "data": {
      "text/html": [
       "<div>\n",
       "<style scoped>\n",
       "    .dataframe tbody tr th:only-of-type {\n",
       "        vertical-align: middle;\n",
       "    }\n",
       "\n",
       "    .dataframe tbody tr th {\n",
       "        vertical-align: top;\n",
       "    }\n",
       "\n",
       "    .dataframe thead th {\n",
       "        text-align: right;\n",
       "    }\n",
       "</style>\n",
       "<table border=\"1\" class=\"dataframe\">\n",
       "  <thead>\n",
       "    <tr style=\"text-align: right;\">\n",
       "      <th></th>\n",
       "      <th>PhraseId</th>\n",
       "      <th>SentenceId</th>\n",
       "      <th>Phrase</th>\n",
       "      <th>Sentiment</th>\n",
       "    </tr>\n",
       "  </thead>\n",
       "  <tbody>\n",
       "    <tr>\n",
       "      <th>0</th>\n",
       "      <td>1</td>\n",
       "      <td>1</td>\n",
       "      <td>A series of escapades demonstrating the adage ...</td>\n",
       "      <td>1</td>\n",
       "    </tr>\n",
       "    <tr>\n",
       "      <th>1</th>\n",
       "      <td>2</td>\n",
       "      <td>1</td>\n",
       "      <td>A series of escapades demonstrating the adage ...</td>\n",
       "      <td>2</td>\n",
       "    </tr>\n",
       "    <tr>\n",
       "      <th>2</th>\n",
       "      <td>3</td>\n",
       "      <td>1</td>\n",
       "      <td>A series</td>\n",
       "      <td>2</td>\n",
       "    </tr>\n",
       "    <tr>\n",
       "      <th>3</th>\n",
       "      <td>4</td>\n",
       "      <td>1</td>\n",
       "      <td>A</td>\n",
       "      <td>2</td>\n",
       "    </tr>\n",
       "    <tr>\n",
       "      <th>4</th>\n",
       "      <td>5</td>\n",
       "      <td>1</td>\n",
       "      <td>series</td>\n",
       "      <td>2</td>\n",
       "    </tr>\n",
       "  </tbody>\n",
       "</table>\n",
       "</div>"
      ],
      "text/plain": [
       "   PhraseId  SentenceId                                             Phrase  \\\n",
       "0         1           1  A series of escapades demonstrating the adage ...   \n",
       "1         2           1  A series of escapades demonstrating the adage ...   \n",
       "2         3           1                                           A series   \n",
       "3         4           1                                                  A   \n",
       "4         5           1                                             series   \n",
       "\n",
       "   Sentiment  \n",
       "0          1  \n",
       "1          2  \n",
       "2          2  \n",
       "3          2  \n",
       "4          2  "
      ]
     },
     "execution_count": 3,
     "metadata": {},
     "output_type": "execute_result"
    }
   ],
   "source": [
    "df.head()"
   ]
  },
  {
   "cell_type": "code",
   "execution_count": 4,
   "id": "0f2278cd",
   "metadata": {},
   "outputs": [
    {
     "data": {
      "text/plain": [
       "(156060, 4)"
      ]
     },
     "execution_count": 4,
     "metadata": {},
     "output_type": "execute_result"
    }
   ],
   "source": [
    "df.shape"
   ]
  },
  {
   "cell_type": "code",
   "execution_count": 5,
   "id": "9691b4b1",
   "metadata": {},
   "outputs": [
    {
     "data": {
      "text/html": [
       "<div>\n",
       "<style scoped>\n",
       "    .dataframe tbody tr th:only-of-type {\n",
       "        vertical-align: middle;\n",
       "    }\n",
       "\n",
       "    .dataframe tbody tr th {\n",
       "        vertical-align: top;\n",
       "    }\n",
       "\n",
       "    .dataframe thead th {\n",
       "        text-align: right;\n",
       "    }\n",
       "</style>\n",
       "<table border=\"1\" class=\"dataframe\">\n",
       "  <thead>\n",
       "    <tr style=\"text-align: right;\">\n",
       "      <th></th>\n",
       "      <th>PhraseId</th>\n",
       "      <th>SentenceId</th>\n",
       "      <th>Sentiment</th>\n",
       "    </tr>\n",
       "  </thead>\n",
       "  <tbody>\n",
       "    <tr>\n",
       "      <th>count</th>\n",
       "      <td>156060.000000</td>\n",
       "      <td>156060.000000</td>\n",
       "      <td>156060.000000</td>\n",
       "    </tr>\n",
       "    <tr>\n",
       "      <th>mean</th>\n",
       "      <td>78030.500000</td>\n",
       "      <td>4079.732744</td>\n",
       "      <td>2.063578</td>\n",
       "    </tr>\n",
       "    <tr>\n",
       "      <th>std</th>\n",
       "      <td>45050.785842</td>\n",
       "      <td>2502.764394</td>\n",
       "      <td>0.893832</td>\n",
       "    </tr>\n",
       "    <tr>\n",
       "      <th>min</th>\n",
       "      <td>1.000000</td>\n",
       "      <td>1.000000</td>\n",
       "      <td>0.000000</td>\n",
       "    </tr>\n",
       "    <tr>\n",
       "      <th>25%</th>\n",
       "      <td>39015.750000</td>\n",
       "      <td>1861.750000</td>\n",
       "      <td>2.000000</td>\n",
       "    </tr>\n",
       "    <tr>\n",
       "      <th>50%</th>\n",
       "      <td>78030.500000</td>\n",
       "      <td>4017.000000</td>\n",
       "      <td>2.000000</td>\n",
       "    </tr>\n",
       "    <tr>\n",
       "      <th>75%</th>\n",
       "      <td>117045.250000</td>\n",
       "      <td>6244.000000</td>\n",
       "      <td>3.000000</td>\n",
       "    </tr>\n",
       "    <tr>\n",
       "      <th>max</th>\n",
       "      <td>156060.000000</td>\n",
       "      <td>8544.000000</td>\n",
       "      <td>4.000000</td>\n",
       "    </tr>\n",
       "  </tbody>\n",
       "</table>\n",
       "</div>"
      ],
      "text/plain": [
       "            PhraseId     SentenceId      Sentiment\n",
       "count  156060.000000  156060.000000  156060.000000\n",
       "mean    78030.500000    4079.732744       2.063578\n",
       "std     45050.785842    2502.764394       0.893832\n",
       "min         1.000000       1.000000       0.000000\n",
       "25%     39015.750000    1861.750000       2.000000\n",
       "50%     78030.500000    4017.000000       2.000000\n",
       "75%    117045.250000    6244.000000       3.000000\n",
       "max    156060.000000    8544.000000       4.000000"
      ]
     },
     "execution_count": 5,
     "metadata": {},
     "output_type": "execute_result"
    }
   ],
   "source": [
    "df.describe()"
   ]
  },
  {
   "cell_type": "code",
   "execution_count": 6,
   "id": "964a9bec",
   "metadata": {},
   "outputs": [
    {
     "data": {
      "text/plain": [
       "Index(['PhraseId', 'SentenceId', 'Phrase', 'Sentiment'], dtype='object')"
      ]
     },
     "execution_count": 6,
     "metadata": {},
     "output_type": "execute_result"
    }
   ],
   "source": [
    "df.columns"
   ]
  },
  {
   "cell_type": "code",
   "execution_count": 7,
   "id": "fca8dd6e",
   "metadata": {},
   "outputs": [
    {
     "data": {
      "text/plain": [
       "2    79582\n",
       "3    32927\n",
       "1    27273\n",
       "4     9206\n",
       "0     7072\n",
       "Name: Sentiment, dtype: int64"
      ]
     },
     "execution_count": 7,
     "metadata": {},
     "output_type": "execute_result"
    }
   ],
   "source": [
    "df['Sentiment'].value_counts()"
   ]
  },
  {
   "cell_type": "markdown",
   "id": "207e321a",
   "metadata": {},
   "source": [
    "# Exercise-2"
   ]
  },
  {
   "cell_type": "code",
   "execution_count": 8,
   "id": "2a367098",
   "metadata": {},
   "outputs": [],
   "source": [
    "zero = df.loc[df.Sentiment == 0]\n",
    "one = df.loc[df.Sentiment == 1]\n",
    "two = df.loc[df.Sentiment == 2]\n",
    "three = df.loc[df.Sentiment == 3]\n",
    "four = df.loc[df.Sentiment == 4]"
   ]
  },
  {
   "cell_type": "code",
   "execution_count": 9,
   "id": "3a707f7b",
   "metadata": {},
   "outputs": [],
   "source": [
    "small_rotten_train = pd.concat([zero[:200],one[:200],two[:200],three[:200],four[:200]])"
   ]
  },
  {
   "cell_type": "markdown",
   "id": "d34600b3",
   "metadata": {},
   "source": [
    "# Exercise-3"
   ]
  },
  {
   "cell_type": "code",
   "execution_count": 10,
   "id": "a7803bf7",
   "metadata": {},
   "outputs": [],
   "source": [
    "# 1)open the file. \"small_rotten_train.csv\""
   ]
  },
  {
   "cell_type": "code",
   "execution_count": 11,
   "id": "1ab19d8f",
   "metadata": {},
   "outputs": [],
   "source": [
    "small_rotten_train.to_csv(\"small_rotten_train.csv\")"
   ]
  },
  {
   "cell_type": "code",
   "execution_count": 12,
   "id": "32643ce2",
   "metadata": {},
   "outputs": [],
   "source": [
    "# 2)The reivew text are stored in \"Phrase'"
   ]
  },
  {
   "cell_type": "code",
   "execution_count": 13,
   "id": "717318eb",
   "metadata": {},
   "outputs": [],
   "source": [
    "X = small_rotten_train.Phrase"
   ]
  },
  {
   "cell_type": "code",
   "execution_count": 14,
   "id": "0f35375a",
   "metadata": {},
   "outputs": [],
   "source": [
    "# 3)The \"Sentiment\" columns is your target, say \"y\""
   ]
  },
  {
   "cell_type": "code",
   "execution_count": 15,
   "id": "8df4c9f9",
   "metadata": {},
   "outputs": [],
   "source": [
    "y = small_rotten_train.Sentiment"
   ]
  },
  {
   "cell_type": "code",
   "execution_count": 16,
   "id": "d84c634e",
   "metadata": {},
   "outputs": [
    {
     "name": "stderr",
     "output_type": "stream",
     "text": [
      "[nltk_data] Downloading package stopwords to\n",
      "[nltk_data]     C:\\Users\\1mscdsa44\\AppData\\Roaming\\nltk_data...\n",
      "[nltk_data]   Package stopwords is already up-to-date!\n",
      "[nltk_data] Downloading package wordnet to\n",
      "[nltk_data]     C:\\Users\\1mscdsa44\\AppData\\Roaming\\nltk_data...\n",
      "[nltk_data]   Package wordnet is already up-to-date!\n"
     ]
    },
    {
     "data": {
      "text/plain": [
       "True"
      ]
     },
     "execution_count": 16,
     "metadata": {},
     "output_type": "execute_result"
    }
   ],
   "source": [
    "import nltk\n",
    "from nltk.corpus import stopwords\n",
    "nltk.download('stopwords')\n",
    "nltk.download('wordnet')"
   ]
  },
  {
   "cell_type": "code",
   "execution_count": 17,
   "id": "4768a3cd",
   "metadata": {},
   "outputs": [],
   "source": [
    "# 4)Pre-processing"
   ]
  },
  {
   "cell_type": "code",
   "execution_count": 18,
   "id": "419cd55a",
   "metadata": {},
   "outputs": [],
   "source": [
    "stop_words = set(stopwords.words('english'))"
   ]
  },
  {
   "cell_type": "code",
   "execution_count": 19,
   "id": "1fb693ae",
   "metadata": {},
   "outputs": [],
   "source": [
    "from nltk.stem import WordNetLemmatizer\n",
    "lemmatizer = WordNetLemmatizer()"
   ]
  },
  {
   "cell_type": "code",
   "execution_count": 20,
   "id": "40a5394a",
   "metadata": {},
   "outputs": [],
   "source": [
    "def clean_review(review):\n",
    "    tokens = review.lower().split()\n",
    "    filtered_tokens = [lemmatizer.lemmatize(w)\n",
    "        for w in tokens if w not in stop_words]\n",
    "    return \" \".join(filtered_tokens)"
   ]
  },
  {
   "cell_type": "code",
   "execution_count": 21,
   "id": "e8237ac2",
   "metadata": {},
   "outputs": [],
   "source": [
    "# 5)Apply the above function to X"
   ]
  },
  {
   "cell_type": "code",
   "execution_count": 22,
   "id": "a5de861f",
   "metadata": {},
   "outputs": [],
   "source": [
    "t = X.tolist()\n",
    "f =[]"
   ]
  },
  {
   "cell_type": "code",
   "execution_count": 23,
   "id": "66d33ee1",
   "metadata": {},
   "outputs": [
    {
     "name": "stderr",
     "output_type": "stream",
     "text": [
      "[nltk_data] Downloading package omw-1.4 to\n",
      "[nltk_data]     C:\\Users\\1mscdsa44\\AppData\\Roaming\\nltk_data...\n",
      "[nltk_data]   Package omw-1.4 is already up-to-date!\n"
     ]
    },
    {
     "data": {
      "text/plain": [
       "True"
      ]
     },
     "execution_count": 23,
     "metadata": {},
     "output_type": "execute_result"
    }
   ],
   "source": [
    "nltk.download('omw-1.4')"
   ]
  },
  {
   "cell_type": "code",
   "execution_count": 24,
   "id": "2b58ce4e",
   "metadata": {},
   "outputs": [],
   "source": [
    "for i in t:\n",
    "    f.append(clean_review(i))\n",
    "n = pd.Series(f)"
   ]
  },
  {
   "cell_type": "code",
   "execution_count": 25,
   "id": "e7a51fdb",
   "metadata": {},
   "outputs": [],
   "source": [
    "# 6)Split X and Y for Trainig and testing (Use 20% for testing)"
   ]
  },
  {
   "cell_type": "code",
   "execution_count": 26,
   "id": "d3affbe9",
   "metadata": {},
   "outputs": [],
   "source": [
    "from sklearn.model_selection import train_test_split\n",
    "X_train,X_test,y_train,y_test = train_test_split(n,y,test_size=0.20,random_state=42)"
   ]
  },
  {
   "cell_type": "code",
   "execution_count": 27,
   "id": "e88592c9",
   "metadata": {},
   "outputs": [],
   "source": [
    "# 7)Create tfidfVectorizer as below and perform vectorization on X_train using fit_perform() method"
   ]
  },
  {
   "cell_type": "code",
   "execution_count": 28,
   "id": "fb3c30c8",
   "metadata": {},
   "outputs": [
    {
     "data": {
      "text/plain": [
       "TfidfVectorizer(min_df=3, ngram_range=(1, 2), use_idf=1)"
      ]
     },
     "execution_count": 28,
     "metadata": {},
     "output_type": "execute_result"
    }
   ],
   "source": [
    "from sklearn.feature_extraction.text import TfidfVectorizer\n",
    "TfidfVectorizer(min_df =3,max_features =None, ngram_range = (1,2), use_idf=1)"
   ]
  },
  {
   "cell_type": "code",
   "execution_count": 29,
   "id": "65d5b4f6",
   "metadata": {},
   "outputs": [],
   "source": [
    "from sklearn.feature_extraction.text import CountVectorizer\n",
    "cv = CountVectorizer()"
   ]
  },
  {
   "cell_type": "code",
   "execution_count": 30,
   "id": "09d1ff31",
   "metadata": {},
   "outputs": [],
   "source": [
    "# 8)Create MultinomialNB model and perform training using X_train_lemmatizered and y_train."
   ]
  },
  {
   "cell_type": "code",
   "execution_count": 31,
   "id": "5b5bcd20",
   "metadata": {},
   "outputs": [],
   "source": [
    "X_train_NB = cv.fit_transform(X_train)\n",
    "X_test_NB = cv.transform(X_test)"
   ]
  },
  {
   "cell_type": "code",
   "execution_count": 32,
   "id": "193b63f4",
   "metadata": {},
   "outputs": [],
   "source": [
    "from sklearn.naive_bayes import MultinomialNB"
   ]
  },
  {
   "cell_type": "code",
   "execution_count": 33,
   "id": "51598858",
   "metadata": {},
   "outputs": [
    {
     "data": {
      "text/plain": [
       "MultinomialNB()"
      ]
     },
     "execution_count": 33,
     "metadata": {},
     "output_type": "execute_result"
    }
   ],
   "source": [
    "mb = MultinomialNB()\n",
    "mb.fit(X_train_NB,y_train)"
   ]
  },
  {
   "cell_type": "code",
   "execution_count": 34,
   "id": "f67d916b",
   "metadata": {},
   "outputs": [],
   "source": [
    "# 9)Validation on X_test lemmatized and predict output"
   ]
  },
  {
   "cell_type": "code",
   "execution_count": 35,
   "id": "04cc7df3",
   "metadata": {},
   "outputs": [],
   "source": [
    "y_pred_NB= mb.predict(X_test_NB)"
   ]
  },
  {
   "cell_type": "code",
   "execution_count": 36,
   "id": "34f55994",
   "metadata": {},
   "outputs": [],
   "source": [
    "# 10)Classification_report and Accuracy_score"
   ]
  },
  {
   "cell_type": "code",
   "execution_count": 37,
   "id": "ee231421",
   "metadata": {},
   "outputs": [],
   "source": [
    "from sklearn.metrics import accuracy_score,classification_report"
   ]
  },
  {
   "cell_type": "code",
   "execution_count": 38,
   "id": "5d2003f4",
   "metadata": {},
   "outputs": [
    {
     "name": "stdout",
     "output_type": "stream",
     "text": [
      "Accuracy score : 0.67\n"
     ]
    }
   ],
   "source": [
    "acc = accuracy_score(y_test,y_pred_NB)\n",
    "print(\"Accuracy score :\",acc)"
   ]
  },
  {
   "cell_type": "code",
   "execution_count": 39,
   "id": "788a7942",
   "metadata": {},
   "outputs": [
    {
     "name": "stdout",
     "output_type": "stream",
     "text": [
      "Classification Report :\n",
      "               precision    recall  f1-score   support\n",
      "\n",
      "           0       0.71      0.76      0.74        33\n",
      "           1       0.70      0.67      0.68        48\n",
      "           2       0.62      0.57      0.59        37\n",
      "           3       0.60      0.66      0.62        38\n",
      "           4       0.72      0.70      0.71        44\n",
      "\n",
      "    accuracy                           0.67       200\n",
      "   macro avg       0.67      0.67      0.67       200\n",
      "weighted avg       0.67      0.67      0.67       200\n",
      "\n"
     ]
    }
   ],
   "source": [
    "print(\"Classification Report :\\n\",classification_report(y_test,y_pred_NB))"
   ]
  },
  {
   "cell_type": "markdown",
   "id": "5b43eae7",
   "metadata": {},
   "source": [
    "# Exercise -4"
   ]
  },
  {
   "cell_type": "code",
   "execution_count": 40,
   "id": "09018dfa",
   "metadata": {},
   "outputs": [],
   "source": [
    "# 1)open \"rotten_tomato_test.tsv\" file into Dataframe"
   ]
  },
  {
   "cell_type": "code",
   "execution_count": 41,
   "id": "fc2b2062",
   "metadata": {},
   "outputs": [],
   "source": [
    "df1 = pd.read_csv(\"test.tsv\",sep='\\t')"
   ]
  },
  {
   "cell_type": "code",
   "execution_count": 42,
   "id": "552ca51d",
   "metadata": {},
   "outputs": [
    {
     "data": {
      "text/html": [
       "<div>\n",
       "<style scoped>\n",
       "    .dataframe tbody tr th:only-of-type {\n",
       "        vertical-align: middle;\n",
       "    }\n",
       "\n",
       "    .dataframe tbody tr th {\n",
       "        vertical-align: top;\n",
       "    }\n",
       "\n",
       "    .dataframe thead th {\n",
       "        text-align: right;\n",
       "    }\n",
       "</style>\n",
       "<table border=\"1\" class=\"dataframe\">\n",
       "  <thead>\n",
       "    <tr style=\"text-align: right;\">\n",
       "      <th></th>\n",
       "      <th>PhraseId</th>\n",
       "      <th>SentenceId</th>\n",
       "      <th>Phrase</th>\n",
       "    </tr>\n",
       "  </thead>\n",
       "  <tbody>\n",
       "    <tr>\n",
       "      <th>0</th>\n",
       "      <td>156061</td>\n",
       "      <td>8545</td>\n",
       "      <td>An intermittently pleasing but mostly routine ...</td>\n",
       "    </tr>\n",
       "    <tr>\n",
       "      <th>1</th>\n",
       "      <td>156062</td>\n",
       "      <td>8545</td>\n",
       "      <td>An intermittently pleasing but mostly routine ...</td>\n",
       "    </tr>\n",
       "    <tr>\n",
       "      <th>2</th>\n",
       "      <td>156063</td>\n",
       "      <td>8545</td>\n",
       "      <td>An</td>\n",
       "    </tr>\n",
       "    <tr>\n",
       "      <th>3</th>\n",
       "      <td>156064</td>\n",
       "      <td>8545</td>\n",
       "      <td>intermittently pleasing but mostly routine effort</td>\n",
       "    </tr>\n",
       "    <tr>\n",
       "      <th>4</th>\n",
       "      <td>156065</td>\n",
       "      <td>8545</td>\n",
       "      <td>intermittently pleasing but mostly routine</td>\n",
       "    </tr>\n",
       "  </tbody>\n",
       "</table>\n",
       "</div>"
      ],
      "text/plain": [
       "   PhraseId  SentenceId                                             Phrase\n",
       "0    156061        8545  An intermittently pleasing but mostly routine ...\n",
       "1    156062        8545  An intermittently pleasing but mostly routine ...\n",
       "2    156063        8545                                                 An\n",
       "3    156064        8545  intermittently pleasing but mostly routine effort\n",
       "4    156065        8545         intermittently pleasing but mostly routine"
      ]
     },
     "execution_count": 42,
     "metadata": {},
     "output_type": "execute_result"
    }
   ],
   "source": [
    "df1.head()"
   ]
  },
  {
   "cell_type": "code",
   "execution_count": 43,
   "id": "b50c74ec",
   "metadata": {},
   "outputs": [],
   "source": [
    "X2 = df1[\"Phrase\"]"
   ]
  },
  {
   "cell_type": "code",
   "execution_count": 44,
   "id": "2a084e34",
   "metadata": {},
   "outputs": [],
   "source": [
    "# 2)Clean this test data, using the function clean_review(), as before"
   ]
  },
  {
   "cell_type": "code",
   "execution_count": 45,
   "id": "d21b733e",
   "metadata": {},
   "outputs": [],
   "source": [
    "X2 = X2.apply(lambda X2: clean_review(X2))"
   ]
  },
  {
   "cell_type": "code",
   "execution_count": 46,
   "id": "2f62a352",
   "metadata": {},
   "outputs": [],
   "source": [
    "# 3)build TFIDF values using transform() method"
   ]
  },
  {
   "cell_type": "code",
   "execution_count": 47,
   "id": "99fbc922",
   "metadata": {},
   "outputs": [],
   "source": [
    "X2_test = cv.transform(X2)"
   ]
  },
  {
   "cell_type": "code",
   "execution_count": 48,
   "id": "3444766d",
   "metadata": {},
   "outputs": [],
   "source": [
    "# 4)Perform using predict() method"
   ]
  },
  {
   "cell_type": "code",
   "execution_count": 49,
   "id": "e55ad7ab",
   "metadata": {},
   "outputs": [],
   "source": [
    "y_pred_2 = mb.predict(X2_test)"
   ]
  },
  {
   "cell_type": "code",
   "execution_count": 50,
   "id": "4ab825e5",
   "metadata": {},
   "outputs": [
    {
     "data": {
      "text/plain": [
       "array([0, 0, 0, ..., 0, 0, 0], dtype=int64)"
      ]
     },
     "execution_count": 50,
     "metadata": {},
     "output_type": "execute_result"
    }
   ],
   "source": [
    "y_pred_2"
   ]
  },
  {
   "cell_type": "markdown",
   "id": "54831f61",
   "metadata": {},
   "source": [
    "R. Newlinblessy---225229144"
   ]
  }
 ],
 "metadata": {
  "kernelspec": {
   "display_name": "Python 3 (ipykernel)",
   "language": "python",
   "name": "python3"
  },
  "language_info": {
   "codemirror_mode": {
    "name": "ipython",
    "version": 3
   },
   "file_extension": ".py",
   "mimetype": "text/x-python",
   "name": "python",
   "nbconvert_exporter": "python",
   "pygments_lexer": "ipython3",
   "version": "3.9.12"
  }
 },
 "nbformat": 4,
 "nbformat_minor": 5
}
